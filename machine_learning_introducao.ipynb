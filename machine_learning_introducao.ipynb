{
  "nbformat": 4,
  "nbformat_minor": 0,
  "metadata": {
    "colab": {
      "provenance": [],
      "authorship_tag": "ABX9TyNMFvSg8NSS7zVdWHTTrltf",
      "include_colab_link": true
    },
    "kernelspec": {
      "name": "python3",
      "display_name": "Python 3"
    },
    "language_info": {
      "name": "python"
    }
  },
  "cells": [
    {
      "cell_type": "markdown",
      "metadata": {
        "id": "view-in-github",
        "colab_type": "text"
      },
      "source": [
        "<a href=\"https://colab.research.google.com/github/KARINAgoncalvesSOARES/Machine_Learning/blob/main/machine_learning_introducao.ipynb\" target=\"_parent\"><img src=\"https://colab.research.google.com/assets/colab-badge.svg\" alt=\"Open In Colab\"/></a>"
      ]
    },
    {
      "cell_type": "markdown",
      "source": [
        "## Introdução a Machine Learning\n",
        "\n",
        "Data Scientist Jr.: Karina Gonçalves Soares"
      ],
      "metadata": {
        "id": "ecPmZrQVNtMh"
      }
    },
    {
      "cell_type": "markdown",
      "source": [
        "# O que é Machine Learning?\n",
        "\n",
        "Machine learning é um ramo da inteligência artificial (IA) e da ciência da computação que se concentra no uso de dados e algoritmos para imitar a maneira como os humanos aprendem, melhorando gradualmente sua precisão.\n",
        "\n",
        "Machine learning é um componente importante do crescente campo da ciência de dados. Por meio do uso de métodos estatísticos, os algoritmos são treinados para fazer classificações ou previsões, revelando os principais insights em projetos de mineração de dados. Esses insights subsequentemente conduzem a tomada de decisões em aplicativos e negócios, impactando de forma ideal as principais métricas de crescimento. Conforme o Big Data continua a se expandir e crescer, a demanda do mercado por Cientistas de Dados aumentará, exigindo que eles auxiliem na identificação das questões de negócios mais relevantes e, posteriormente, os dados para respondê-las."
      ],
      "metadata": {
        "id": "k6N8ucNWOHdq"
      }
    },
    {
      "cell_type": "markdown",
      "source": [
        "#Métodos de Machine Learning (ML)\n",
        "\n",
        "Aprendizado supervisionado:\n",
        "\n",
        "Aprendizado supervisionado, também conhecido como machine learning supervisionado, é definido pelo uso de Conjuntos de Dados rotulados para treinar algoritmos que classificam Dados ou preveem resultados com precisão. Conforme os Dados de entrada são alimentados no modelo, ele ajusta seus pesos até que o modelo tenha sido ajustado de maneira adequada. Isso ocorre como parte do processo de validação cruzada para garantir que o modelo evita super ajuste ou sub-ajuste. O aprendizado supervisionado ajuda as organizações a resolver uma variedade de problemas do mundo real em grande escala, como a classificação de spam em uma pasta separada da sua caixa de entrada. Alguns métodos usados na aprendizagem supervisionada incluem redes neurais, naïve bayes, regressão linear, regressão logística, floresta aleatória, máquina de vetores de suporte (SVM) e muito mais.\n",
        "\n",
        "Aprendizado não-supervisionado:\n",
        "\n",
        "Aprendizado não-supervisionado, também conhecido como machine learning não supervisionado, usa algoritmos de machine learning para analisar e agrupar (clusters) conjuntos de dados não rotulados. Esses algoritmos descobrem padrões ocultos ou agrupamentos de dados sem a necessidade de intervenção humana. Sua capacidade de descobrir semelhanças e diferenças nas informações torna a solução ideal para análise exploratória de dados, estratégias de vendas cruzadas, segmentação de clientes, imagem e reconhecimento de padrões. Também é usado para reduzir o número de recursos em um modelo por meio do processo de redução de dimensionalidade, a Análise de Componente Principal (PCA) e a decomposição de valor singular (SVD) são duas abordagens comuns para isso. Outros algoritmos usados no aprendizado não-supervisionado incluem redes neurais, armazenamento em cluster de k-médias (k-means), métodos de armazenamento em cluster probabilístico e muito mais."
      ],
      "metadata": {
        "id": "z5muggxaYSU2"
      }
    },
    {
      "cell_type": "code",
      "source": [],
      "metadata": {
        "id": "aXUhxfWoYR_B"
      },
      "execution_count": null,
      "outputs": []
    },
    {
      "cell_type": "code",
      "execution_count": null,
      "metadata": {
        "id": "MphdNcnjNfDt"
      },
      "outputs": [],
      "source": []
    }
  ]
}