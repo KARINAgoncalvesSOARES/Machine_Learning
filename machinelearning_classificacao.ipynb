{
  "nbformat": 4,
  "nbformat_minor": 0,
  "metadata": {
    "colab": {
      "provenance": [],
      "authorship_tag": "ABX9TyMljB10ZycZVcraLdjWu3UC",
      "include_colab_link": true
    },
    "kernelspec": {
      "name": "python3",
      "display_name": "Python 3"
    },
    "language_info": {
      "name": "python"
    }
  },
  "cells": [
    {
      "cell_type": "markdown",
      "metadata": {
        "id": "view-in-github",
        "colab_type": "text"
      },
      "source": [
        "<a href=\"https://colab.research.google.com/github/KARINAgoncalvesSOARES/Machine_Learning/blob/main/machinelearning_classificacao.ipynb\" target=\"_parent\"><img src=\"https://colab.research.google.com/assets/colab-badge.svg\" alt=\"Open In Colab\"/></a>"
      ]
    },
    {
      "cell_type": "markdown",
      "source": [
        "# <h2 align=\"center\"> Machine Learning: Classificação\n",
        "\n",
        "Data Scientist Jr.: Karina Gonçalves Soares\n",
        "\n",
        "Link de estudo:\n",
        "\n",
        "*[ML-Classificação](https://github.com/EddyGiusepe/Machine_Learning/blob/main/5_ML_Classification.ipynb) "
      ],
      "metadata": {
        "id": "ycxEz1Sdzf_w"
      }
    },
    {
      "cell_type": "markdown",
      "source": [
        "Aqui aprenderemos a tarefa de Classificação. A diferença da Regressão, na qual o objetivo era predezir o valor de uma variável com respeito a diferentes características, em classificação o objetivo é atribuir uma classe (Etiqueta, Label ... são os nomes comuns) a partir das diferentes características. Por exemplo: a classificação de imagens; onde se tenta atribuir uma etiqueta em função do valor dos píxeis."
      ],
      "metadata": {
        "id": "JoAPFWsEzzhC"
      }
    },
    {
      "cell_type": "markdown",
      "source": [
        "#Regressão Logística\n",
        "\n",
        "Este modelo leva no nome regressão mas, realmente é un modelo de classificação. Se chama asim porque o modelo usado é o mesmo que usamos em scripts anteriores para Regressão linear, aplicando uma função sigmoid à saída do modelo. Esta função transformará o valor da saída num valor entre 0 e 1 que pode ser interpretado como uma probabilidade. Aplicando um umbral à saída poderemos decidir se a amostra em questão pertence a uma classe ou não (por exemplo: se a probabilidade é maior que 50%). Assim pois, este modelo não servirá para a tarefa de classificação binaria.\n",
        "\n"
      ],
      "metadata": {
        "id": "VskCY7Pyz3w5"
      }
    },
    {
      "cell_type": "markdown",
      "source": [
        "![image.png](data:image/png;base64,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)"
      ],
      "metadata": {
        "id": "YcLDUYRF0T_2"
      }
    },
    {
      "cell_type": "markdown",
      "source": [
        "onde ![image.png](data:image/png;base64,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) é a função sigmoidal."
      ],
      "metadata": {
        "id": "6C2RnDsL0kGV"
      }
    },
    {
      "cell_type": "code",
      "execution_count": 21,
      "metadata": {
        "colab": {
          "base_uri": "https://localhost:8080/",
          "height": 334
        },
        "id": "zjsv1U-Sy6OX",
        "outputId": "86be115c-cb90-4bcc-a213-ff3605c17b39"
      },
      "outputs": [
        {
          "output_type": "display_data",
          "data": {
            "text/plain": [
              "<Figure size 864x360 with 1 Axes>"
            ],
            "image/png": "[encoded data removed]"
          },
          "metadata": {
            "needs_background": "light"
          }
        }
      ],
      "source": [
        "import numpy as np \n",
        "import matplotlib.pyplot as plt\n",
        "\n",
        "\n",
        "t = np.linspace(-10, 10, 100)\n",
        "sig = 1 / (1 + np.exp(-t))\n",
        "\n",
        "\n",
        "plt.figure(figsize=(12, 5))\n",
        "plt.plot([-10, 10], [0, 0], \"r:\")\n",
        "plt.plot([-10, 10], [0.5, 0.5], \"r:\")\n",
        "plt.plot([-10, 10], [1, 1], \"r:\")\n",
        "plt.plot([0, 0], [-1.1, 1.1], \"k-\")\n",
        "plt.plot(t, sig, \"b-\", linewidth=2, label=r\"\")\n",
        "plt.xlabel(\"t\")\n",
        "plt.legend(loc=\"upper left\", fontsize=20)\n",
        "plt.axis([-10, 10, -0.1, 1.1])\n",
        "plt.grid(True)\n",
        "plt.show()\n",
        "     "
      ]
    },
    {
      "cell_type": "markdown",
      "source": [
        "A seguir vamos realizar um exemplo aplicando à CLASSIFICAÇÃO DE FLORES com o Dataset Iris, cujo objetivo é classificar flores em 3 classes distintas em função do tamanho (comprimento e largura) de suas pétalas e sépalos (quatro características)."
      ],
      "metadata": {
        "id": "NOa3JU317ahz"
      }
    },
    {
      "cell_type": "code",
      "source": [
        "from sklearn import datasets\n",
        "\n",
        "import warnings\n",
        "warnings.filterwarnings(\"ignore\")\n",
        "\n",
        "# Carregamos nossos Dados\n",
        "iris = datasets.load_iris()"
      ],
      "metadata": {
        "id": "y5y1xXdS3atr"
      },
      "execution_count": 18,
      "outputs": []
    },
    {
      "cell_type": "markdown",
      "source": [
        "Para começar de maneira mais simples vamos usar apenas uma característica (a largura das pétalas) e para a classificação binária ficaremos apenas como uma classe.\n",
        "\n"
      ],
      "metadata": {
        "id": "PgHH7pJO9H28"
      }
    },
    {
      "cell_type": "code",
      "source": [
        "X = iris[\"data\"][:, 3:]  # petal width\n",
        "\n",
        "y = (iris[\"target\"] == 2).astype(np.int)  # 1 if Iris virginica, else 0"
      ],
      "metadata": {
        "id": "NfMKfCmj9Cce"
      },
      "execution_count": 19,
      "outputs": []
    },
    {
      "cell_type": "code",
      "source": [],
      "metadata": {
        "id": "peqZTZdj9S3i"
      },
      "execution_count": null,
      "outputs": []
    }
  ]
}